{
 "cells": [
  {
   "cell_type": "code",
   "execution_count": 1,
   "id": "b5d1143d",
   "metadata": {},
   "outputs": [],
   "source": [
    "import pandas as pd\n",
    "import requests"
   ]
  },
  {
   "cell_type": "code",
   "execution_count": 2,
   "id": "eef917fc",
   "metadata": {},
   "outputs": [],
   "source": [
    "url = \"https://data.cdc.gov/api/views/bi63-dtpu/rows.json?accessType=DOWNLOAD\"\n",
    "response = requests.get(url)\n",
    "\n",
    "data = response.json()\n",
    "df = pd.DataFrame(data[\"data\"])"
   ]
  },
  {
   "cell_type": "code",
   "execution_count": 6,
   "id": "c770d297",
   "metadata": {
    "scrolled": true
   },
   "outputs": [
    {
     "data": {
      "text/plain": [
       "<bound method DataFrame.info of                       sid                                    id  position  \\\n",
       "0      row-4ziw_fype-q93g  00000000-0000-0000-84F0-BE0C2CBEC77B         0   \n",
       "1      row-mf82_5qce.78c2  00000000-0000-0000-F702-31C8D4A1E5BE         0   \n",
       "2      row-7frh~9yb6-q2q4  00000000-0000-0000-6FE5-1E0821A4276B         0   \n",
       "3      row-urf6.ayyb~8p5q  00000000-0000-0000-26D0-367B1AF824D1         0   \n",
       "4      row-74k2-qi6f~77p7  00000000-0000-0000-C87C-FAD80FEC2E12         0   \n",
       "...                   ...                                   ...       ...   \n",
       "10863  row-7enu.6eha-mdy5  00000000-0000-0000-B22B-1A611B3B2607         0   \n",
       "10864  row-rw3z.z8dd.dcym  00000000-0000-0000-B7DF-BAF4B88F0B46         0   \n",
       "10865  row-nfft~g53m-yyzs  00000000-0000-0000-6F71-5AA903783757         0   \n",
       "10866  row-efex~8dph_yfqq  00000000-0000-0000-C1E4-A0960793377C         0   \n",
       "10867  row-i44c_qgkr~mw6s  00000000-0000-0000-BDB1-F52E068CBDAF         0   \n",
       "\n",
       "       created_at created_meta  updated_at updated_meta meta  Year  \\\n",
       "0      1571926784         None  1571926784         None  { }  2017   \n",
       "1      1571926784         None  1571926784         None  { }  2017   \n",
       "2      1571926784         None  1571926784         None  { }  2017   \n",
       "3      1571926784         None  1571926784         None  { }  2017   \n",
       "4      1571926784         None  1571926784         None  { }  2017   \n",
       "...           ...          ...         ...          ...  ...   ...   \n",
       "10863  1571926784         None  1571926784         None  { }  1999   \n",
       "10864  1571926784         None  1571926784         None  { }  1999   \n",
       "10865  1571926784         None  1571926784         None  { }  1999   \n",
       "10866  1571926784         None  1571926784         None  { }  1999   \n",
       "10867  1571926784         None  1571926784         None  { }  1999   \n",
       "\n",
       "                                          113 Cause Name  \\\n",
       "0      Accidents (unintentional injuries) (V01-X59,Y8...   \n",
       "1      Accidents (unintentional injuries) (V01-X59,Y8...   \n",
       "2      Accidents (unintentional injuries) (V01-X59,Y8...   \n",
       "3      Accidents (unintentional injuries) (V01-X59,Y8...   \n",
       "4      Accidents (unintentional injuries) (V01-X59,Y8...   \n",
       "...                                                  ...   \n",
       "10863  Nephritis, nephrotic syndrome and nephrosis (N...   \n",
       "10864  Nephritis, nephrotic syndrome and nephrosis (N...   \n",
       "10865  Nephritis, nephrotic syndrome and nephrosis (N...   \n",
       "10866  Nephritis, nephrotic syndrome and nephrosis (N...   \n",
       "10867  Nephritis, nephrotic syndrome and nephrosis (N...   \n",
       "\n",
       "                   Cause Name          State  Deaths Age-adjusted Death Rate  \n",
       "0      Unintentional injuries  United States  169936                    49.4  \n",
       "1      Unintentional injuries        Alabama    2703                    53.8  \n",
       "2      Unintentional injuries         Alaska     436                    63.7  \n",
       "3      Unintentional injuries        Arizona    4184                    56.2  \n",
       "4      Unintentional injuries       Arkansas    1625                    51.8  \n",
       "...                       ...            ...     ...                     ...  \n",
       "10863          Kidney disease       Virginia    1035                    16.9  \n",
       "10864          Kidney disease     Washington     278                     5.2  \n",
       "10865          Kidney disease  West Virginia     345                    16.4  \n",
       "10866          Kidney disease      Wisconsin     677                    11.9  \n",
       "10867          Kidney disease        Wyoming      30                     6.8  \n",
       "\n",
       "[10868 rows x 14 columns]>"
      ]
     },
     "execution_count": 6,
     "metadata": {},
     "output_type": "execute_result"
    }
   ],
   "source": [
    "df.info"
   ]
  },
  {
   "cell_type": "code",
   "execution_count": 7,
   "id": "5dbd402a",
   "metadata": {},
   "outputs": [
    {
     "data": {
      "text/html": [
       "<div>\n",
       "<style scoped>\n",
       "    .dataframe tbody tr th:only-of-type {\n",
       "        vertical-align: middle;\n",
       "    }\n",
       "\n",
       "    .dataframe tbody tr th {\n",
       "        vertical-align: top;\n",
       "    }\n",
       "\n",
       "    .dataframe thead th {\n",
       "        text-align: right;\n",
       "    }\n",
       "</style>\n",
       "<table border=\"1\" class=\"dataframe\">\n",
       "  <thead>\n",
       "    <tr style=\"text-align: right;\">\n",
       "      <th></th>\n",
       "      <th>position</th>\n",
       "      <th>created_at</th>\n",
       "      <th>updated_at</th>\n",
       "    </tr>\n",
       "  </thead>\n",
       "  <tbody>\n",
       "    <tr>\n",
       "      <th>count</th>\n",
       "      <td>10868.0</td>\n",
       "      <td>1.086800e+04</td>\n",
       "      <td>1.086800e+04</td>\n",
       "    </tr>\n",
       "    <tr>\n",
       "      <th>mean</th>\n",
       "      <td>0.0</td>\n",
       "      <td>1.571927e+09</td>\n",
       "      <td>1.571927e+09</td>\n",
       "    </tr>\n",
       "    <tr>\n",
       "      <th>std</th>\n",
       "      <td>0.0</td>\n",
       "      <td>0.000000e+00</td>\n",
       "      <td>0.000000e+00</td>\n",
       "    </tr>\n",
       "    <tr>\n",
       "      <th>min</th>\n",
       "      <td>0.0</td>\n",
       "      <td>1.571927e+09</td>\n",
       "      <td>1.571927e+09</td>\n",
       "    </tr>\n",
       "    <tr>\n",
       "      <th>25%</th>\n",
       "      <td>0.0</td>\n",
       "      <td>1.571927e+09</td>\n",
       "      <td>1.571927e+09</td>\n",
       "    </tr>\n",
       "    <tr>\n",
       "      <th>50%</th>\n",
       "      <td>0.0</td>\n",
       "      <td>1.571927e+09</td>\n",
       "      <td>1.571927e+09</td>\n",
       "    </tr>\n",
       "    <tr>\n",
       "      <th>75%</th>\n",
       "      <td>0.0</td>\n",
       "      <td>1.571927e+09</td>\n",
       "      <td>1.571927e+09</td>\n",
       "    </tr>\n",
       "    <tr>\n",
       "      <th>max</th>\n",
       "      <td>0.0</td>\n",
       "      <td>1.571927e+09</td>\n",
       "      <td>1.571927e+09</td>\n",
       "    </tr>\n",
       "  </tbody>\n",
       "</table>\n",
       "</div>"
      ],
      "text/plain": [
       "       position    created_at    updated_at\n",
       "count   10868.0  1.086800e+04  1.086800e+04\n",
       "mean        0.0  1.571927e+09  1.571927e+09\n",
       "std         0.0  0.000000e+00  0.000000e+00\n",
       "min         0.0  1.571927e+09  1.571927e+09\n",
       "25%         0.0  1.571927e+09  1.571927e+09\n",
       "50%         0.0  1.571927e+09  1.571927e+09\n",
       "75%         0.0  1.571927e+09  1.571927e+09\n",
       "max         0.0  1.571927e+09  1.571927e+09"
      ]
     },
     "execution_count": 7,
     "metadata": {},
     "output_type": "execute_result"
    }
   ],
   "source": [
    "df.describe()"
   ]
  },
  {
   "cell_type": "code",
   "execution_count": 3,
   "id": "eb1a282f",
   "metadata": {},
   "outputs": [],
   "source": [
    "column_names = [column[\"name\"] for column in data[\"meta\"][\"view\"][\"columns\"]]\n",
    "df.columns = column_names"
   ]
  },
  {
   "cell_type": "code",
   "execution_count": 4,
   "id": "8e611ddf",
   "metadata": {},
   "outputs": [],
   "source": [
    "df.to_csv(\"data.csv\", index=False)"
   ]
  },
  {
   "cell_type": "code",
   "execution_count": 5,
   "id": "0a3838e1",
   "metadata": {},
   "outputs": [],
   "source": [
    "import pandas as pd\n",
    "import requests\n",
    "\n",
    "# Fetch the JSON data from the CDC URL\n",
    "url = \"https://data.cdc.gov/api/views/bi63-dtpu/rows.json?accessType=DOWNLOAD\"\n",
    "response = requests.get(url)\n",
    "\n",
    "# Check if the request was successful (status code 200)\n",
    "if response.status_code == 200:\n",
    "    data = response.json()\n",
    "    df = pd.DataFrame(data['data'])\n",
    "else:\n",
    "    print(\"Failed to fetch JSON data from the URL.\")\n",
    "\n",
    "# Specify the column names (found in the 'meta' section of the JSON data)\n",
    "column_names = [column['name'] for column in data['meta']['view']['columns']]\n",
    "df.columns = column_names\n",
    "\n",
    "# Save DataFrame to a CSV file\n",
    "df.to_csv('cdc_data.csv', index=False)"
   ]
  },
  {
   "cell_type": "code",
   "execution_count": null,
   "id": "7ad7d2ef",
   "metadata": {},
   "outputs": [],
   "source": []
  }
 ],
 "metadata": {
  "kernelspec": {
   "display_name": "Python 3 (ipykernel)",
   "language": "python",
   "name": "python3"
  },
  "language_info": {
   "codemirror_mode": {
    "name": "ipython",
    "version": 3
   },
   "file_extension": ".py",
   "mimetype": "text/x-python",
   "name": "python",
   "nbconvert_exporter": "python",
   "pygments_lexer": "ipython3",
   "version": "3.10.11"
  }
 },
 "nbformat": 4,
 "nbformat_minor": 5
}
