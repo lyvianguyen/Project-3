{
 "cells": [
  {
   "cell_type": "code",
   "execution_count": 5,
   "id": "b5d1143d",
   "metadata": {},
   "outputs": [],
   "source": [
    "import pandas as pd\n",
    "import requests"
   ]
  },
  {
   "cell_type": "code",
   "execution_count": null,
   "id": "eef917fc",
   "metadata": {},
   "outputs": [],
   "source": [
    "url = \"https://data.cdc.gov/api/views/bi63-dtpu/rows.json?accessType=DOWNLOAD\"\n",
    "response = requests.get(url)\n",
    "\n",
    "data = response.json()\n",
    "df = pd.DataFrame(data[\"data\"])"
   ]
  },
  {
   "cell_type": "code",
   "execution_count": null,
   "id": "eb1a282f",
   "metadata": {},
   "outputs": [],
   "source": [
    "column_names = [column[\"name\"] for column in data[\"meta\"][\"view\"][\"columns\"]]\n",
    "df.columns = column_names"
   ]
  },
  {
   "cell_type": "code",
   "execution_count": null,
   "id": "8e611ddf",
   "metadata": {},
   "outputs": [],
   "source": [
    "df.to_csv(\"data.csv\", index=False)"
   ]
  },
  {
   "cell_type": "code",
   "execution_count": 12,
   "id": "0a3838e1",
   "metadata": {},
   "outputs": [],
   "source": [
    "import pandas as pd\n",
    "import requests\n",
    "\n",
    "# Fetch the JSON data from the CDC URL\n",
    "url = \"https://data.cdc.gov/api/views/bi63-dtpu/rows.json?accessType=DOWNLOAD\"\n",
    "response = requests.get(url)\n",
    "\n",
    "# Check if the request was successful (status code 200)\n",
    "if response.status_code == 200:\n",
    "    data = response.json()\n",
    "    df = pd.DataFrame(data['data'])\n",
    "else:\n",
    "    print(\"Failed to fetch JSON data from the URL.\")\n",
    "\n",
    "# Specify the column names (found in the 'meta' section of the JSON data)\n",
    "column_names = [column['name'] for column in data['meta']['view']['columns']]\n",
    "df.columns = column_names\n",
    "\n",
    "# Save DataFrame to a CSV file\n",
    "df.to_csv('cdc_data.csv', index=False)"
   ]
  },
  {
   "cell_type": "code",
   "execution_count": null,
   "id": "7ad7d2ef",
   "metadata": {},
   "outputs": [],
   "source": []
  }
 ],
 "metadata": {
  "kernelspec": {
   "display_name": "Python 3 (ipykernel)",
   "language": "python",
   "name": "python3"
  },
  "language_info": {
   "codemirror_mode": {
    "name": "ipython",
    "version": 3
   },
   "file_extension": ".py",
   "mimetype": "text/x-python",
   "name": "python",
   "nbconvert_exporter": "python",
   "pygments_lexer": "ipython3",
   "version": "3.10.11"
  }
 },
 "nbformat": 4,
 "nbformat_minor": 5
}
